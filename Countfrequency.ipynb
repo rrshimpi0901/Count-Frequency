{
 "cells": [
  {
   "cell_type": "code",
   "execution_count": 15,
   "id": "16e4de2c-4659-45cf-8f6a-802c103ecc44",
   "metadata": {},
   "outputs": [
    {
     "name": "stdout",
     "output_type": "stream",
     "text": [
      "Python Project: Count Frequency, No of occurrence\n"
     ]
    },
    {
     "name": "stdin",
     "output_type": "stream",
     "text": [
      "Enter String:  Hello, Welcome to my channel\n"
     ]
    },
    {
     "name": "stdout",
     "output_type": "stream",
     "text": [
      "{'H': 1, 'e': 4, 'l': 4, 'o': 3, ',': 1, ' ': 4, 'W': 1, 'c': 2, 'm': 2, 't': 1, 'y': 1, 'h': 1, 'a': 1, 'n': 2}\n"
     ]
    }
   ],
   "source": [
    "print(\"Python Project: Count Frequency, No of occurrence\")\n",
    "str=input(\"Enter String: \")\n",
    "#print(str)\n",
    "l=list(str)\n",
    "#print(l)\n",
    "#l.count(\"l\")\n",
    "freq=[l.count(ele) for ele in l]\n",
    "#print (freq)\n",
    "d=dict(zip(l,freq))\n",
    "print(d)"
   ]
  },
  {
   "cell_type": "code",
   "execution_count": null,
   "id": "9496e74e-50ba-4646-914a-7b938972930e",
   "metadata": {},
   "outputs": [],
   "source": []
  }
 ],
 "metadata": {
  "kernelspec": {
   "display_name": "Python 3 (ipykernel)",
   "language": "python",
   "name": "python3"
  },
  "language_info": {
   "codemirror_mode": {
    "name": "ipython",
    "version": 3
   },
   "file_extension": ".py",
   "mimetype": "text/x-python",
   "name": "python",
   "nbconvert_exporter": "python",
   "pygments_lexer": "ipython3",
   "version": "3.11.4"
  }
 },
 "nbformat": 4,
 "nbformat_minor": 5
}
